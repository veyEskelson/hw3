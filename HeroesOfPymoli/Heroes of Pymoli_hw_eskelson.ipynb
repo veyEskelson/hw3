{
 "cells": [
  {
   "cell_type": "markdown",
   "metadata": {},
   "source": [
    "# Heroes of Pymoli data analysis hw- eskelson\n"
   ]
  },
  {
   "cell_type": "code",
   "execution_count": 70,
   "metadata": {},
   "outputs": [],
   "source": [
    "# Dependencies and Setup\n",
    "import pandas as pd\n",
    "import numpy as np\n",
    "\n",
    "# File to Load\n",
    "file_to_load = \"Resources/purchase_data.csv\"\n",
    "\n",
    "# Read Purchasing File and store into Pandas data frame\n",
    "p_data = pd.read_csv(file_to_load)\n"
   ]
  },
  {
   "cell_type": "code",
   "execution_count": 71,
   "metadata": {},
   "outputs": [
    {
     "data": {
      "text/html": [
       "<div>\n",
       "<style scoped>\n",
       "    .dataframe tbody tr th:only-of-type {\n",
       "        vertical-align: middle;\n",
       "    }\n",
       "\n",
       "    .dataframe tbody tr th {\n",
       "        vertical-align: top;\n",
       "    }\n",
       "\n",
       "    .dataframe thead th {\n",
       "        text-align: right;\n",
       "    }\n",
       "</style>\n",
       "<table border=\"1\" class=\"dataframe\">\n",
       "  <thead>\n",
       "    <tr style=\"text-align: right;\">\n",
       "      <th></th>\n",
       "      <th>Purchase ID</th>\n",
       "      <th>SN</th>\n",
       "      <th>Age</th>\n",
       "      <th>Gender</th>\n",
       "      <th>Item ID</th>\n",
       "      <th>Item Name</th>\n",
       "      <th>Price</th>\n",
       "    </tr>\n",
       "  </thead>\n",
       "  <tbody>\n",
       "    <tr>\n",
       "      <th>0</th>\n",
       "      <td>0</td>\n",
       "      <td>Lisim78</td>\n",
       "      <td>20</td>\n",
       "      <td>Male</td>\n",
       "      <td>108</td>\n",
       "      <td>Extraction, Quickblade Of Trembling Hands</td>\n",
       "      <td>3.53</td>\n",
       "    </tr>\n",
       "    <tr>\n",
       "      <th>1</th>\n",
       "      <td>1</td>\n",
       "      <td>Lisovynya38</td>\n",
       "      <td>40</td>\n",
       "      <td>Male</td>\n",
       "      <td>143</td>\n",
       "      <td>Frenzied Scimitar</td>\n",
       "      <td>1.56</td>\n",
       "    </tr>\n",
       "    <tr>\n",
       "      <th>2</th>\n",
       "      <td>2</td>\n",
       "      <td>Ithergue48</td>\n",
       "      <td>24</td>\n",
       "      <td>Male</td>\n",
       "      <td>92</td>\n",
       "      <td>Final Critic</td>\n",
       "      <td>4.88</td>\n",
       "    </tr>\n",
       "    <tr>\n",
       "      <th>3</th>\n",
       "      <td>3</td>\n",
       "      <td>Chamassasya86</td>\n",
       "      <td>24</td>\n",
       "      <td>Male</td>\n",
       "      <td>100</td>\n",
       "      <td>Blindscythe</td>\n",
       "      <td>3.27</td>\n",
       "    </tr>\n",
       "    <tr>\n",
       "      <th>4</th>\n",
       "      <td>4</td>\n",
       "      <td>Iskosia90</td>\n",
       "      <td>23</td>\n",
       "      <td>Male</td>\n",
       "      <td>131</td>\n",
       "      <td>Fury</td>\n",
       "      <td>1.44</td>\n",
       "    </tr>\n",
       "  </tbody>\n",
       "</table>\n",
       "</div>"
      ],
      "text/plain": [
       "   Purchase ID             SN  Age Gender  Item ID  \\\n",
       "0            0        Lisim78   20   Male      108   \n",
       "1            1    Lisovynya38   40   Male      143   \n",
       "2            2     Ithergue48   24   Male       92   \n",
       "3            3  Chamassasya86   24   Male      100   \n",
       "4            4      Iskosia90   23   Male      131   \n",
       "\n",
       "                                   Item Name  Price  \n",
       "0  Extraction, Quickblade Of Trembling Hands   3.53  \n",
       "1                          Frenzied Scimitar   1.56  \n",
       "2                               Final Critic   4.88  \n",
       "3                                Blindscythe   3.27  \n",
       "4                                       Fury   1.44  "
      ]
     },
     "execution_count": 71,
     "metadata": {},
     "output_type": "execute_result"
    }
   ],
   "source": [
    "p_data.head()"
   ]
  },
  {
   "cell_type": "code",
   "execution_count": 72,
   "metadata": {},
   "outputs": [
    {
     "data": {
      "text/plain": [
       "Index(['Purchase ID', 'SN', 'Age', 'Gender', 'Item ID', 'Item Name', 'Price'], dtype='object')"
      ]
     },
     "execution_count": 72,
     "metadata": {},
     "output_type": "execute_result"
    }
   ],
   "source": [
    "p_data.columns"
   ]
  },
  {
   "cell_type": "markdown",
   "metadata": {},
   "source": [
    "# Player count\n",
    "-Display the total number of players"
   ]
  },
  {
   "cell_type": "code",
   "execution_count": 73,
   "metadata": {},
   "outputs": [
    {
     "name": "stdout",
     "output_type": "stream",
     "text": [
      "Player count\n"
     ]
    },
    {
     "data": {
      "text/html": [
       "<div>\n",
       "<style scoped>\n",
       "    .dataframe tbody tr th:only-of-type {\n",
       "        vertical-align: middle;\n",
       "    }\n",
       "\n",
       "    .dataframe tbody tr th {\n",
       "        vertical-align: top;\n",
       "    }\n",
       "\n",
       "    .dataframe thead th {\n",
       "        text-align: right;\n",
       "    }\n",
       "</style>\n",
       "<table border=\"1\" class=\"dataframe\">\n",
       "  <thead>\n",
       "    <tr style=\"text-align: right;\">\n",
       "      <th></th>\n",
       "      <th>Total Players</th>\n",
       "    </tr>\n",
       "  </thead>\n",
       "  <tbody>\n",
       "    <tr>\n",
       "      <th>0</th>\n",
       "      <td>576</td>\n",
       "    </tr>\n",
       "  </tbody>\n",
       "</table>\n",
       "</div>"
      ],
      "text/plain": [
       "   Total Players\n",
       "0            576"
      ]
     },
     "execution_count": 73,
     "metadata": {},
     "output_type": "execute_result"
    }
   ],
   "source": [
    "#total number of players\n",
    "uniqueplayers = p_data['SN'].nunique()\n",
    "total_players_count = pd.DataFrame({\"Total Players\": [uniqueplayers]}, columns= [\"Total Players\"])\n",
    "print(\"Player count\")\n",
    "total_players_count"
   ]
  },
  {
   "cell_type": "markdown",
   "metadata": {},
   "source": [
    "# Purchase Analysis (total)\n",
    "-Run basic calculations to obtain number of unique items, average price, etc.\n",
    "-Create a summary data frame to hold the results\n",
    "-Optional: give the displayed data cleaner formatting\n",
    "-Display the summary data frame"
   ]
  },
  {
   "cell_type": "code",
   "execution_count": 74,
   "metadata": {},
   "outputs": [
    {
     "name": "stdout",
     "output_type": "stream",
     "text": [
      "Purchase Analysis (total)\n"
     ]
    },
    {
     "data": {
      "text/html": [
       "<style  type=\"text/css\" >\n",
       "</style>  \n",
       "<table id=\"T_b74759d4_00f9_11e9_85fe_68ecc5c0db9e\" > \n",
       "<thead>    <tr> \n",
       "        <th class=\"blank level0\" ></th> \n",
       "        <th class=\"col_heading level0 col0\" >Number of Unique Items</th> \n",
       "        <th class=\"col_heading level0 col1\" >Average Purchase Price</th> \n",
       "        <th class=\"col_heading level0 col2\" >Number of Purchases</th> \n",
       "        <th class=\"col_heading level0 col3\" >Total Revenue</th> \n",
       "    </tr></thead> \n",
       "<tbody>    <tr> \n",
       "        <th id=\"T_b74759d4_00f9_11e9_85fe_68ecc5c0db9elevel0_row0\" class=\"row_heading level0 row0\" >0</th> \n",
       "        <td id=\"T_b74759d4_00f9_11e9_85fe_68ecc5c0db9erow0_col0\" class=\"data row0 col0\" >183</td> \n",
       "        <td id=\"T_b74759d4_00f9_11e9_85fe_68ecc5c0db9erow0_col1\" class=\"data row0 col1\" >$3.05</td> \n",
       "        <td id=\"T_b74759d4_00f9_11e9_85fe_68ecc5c0db9erow0_col2\" class=\"data row0 col2\" >780</td> \n",
       "        <td id=\"T_b74759d4_00f9_11e9_85fe_68ecc5c0db9erow0_col3\" class=\"data row0 col3\" >$2379.77</td> \n",
       "    </tr></tbody> \n",
       "</table> "
      ],
      "text/plain": [
       "<pandas.io.formats.style.Styler at 0x2453615a2e8>"
      ]
     },
     "execution_count": 74,
     "metadata": {},
     "output_type": "execute_result"
    }
   ],
   "source": [
    "\n",
    "uniqueitems = p_data['Item ID'].nunique()\n",
    "avgprice = (p_data['Price'].sum()/p_data['Price'].count()).round(2)\n",
    "totalpurchases = p_data['Price'].count()\n",
    "totalrevenue = p_data[\"Price\"].sum()\n",
    "\n",
    "total_analysis_total = pd.DataFrame({\"Number of Unique Items\": [uniqueitems], \n",
    "                                      \"Average Purchase Price\": [avgprice],\n",
    "                                      \"Number of Purchases\": [totalpurchases],\n",
    "                                      \"Total Revenue\": [totalrevenue]}, columns= [\"Number of Unique Items\", \"Average Purchase Price\",\n",
    "                                      \"Number of Purchases\", \"Total Revenue\"])\n",
    "print(\"Purchase Analysis (total)\")\n",
    "total_analysis_total.style.format({\"Average Purchase Price\": \"${:.2f}\", \"Total Revenue\": \"${:.2f}\"})"
   ]
  },
  {
   "cell_type": "markdown",
   "metadata": {},
   "source": [
    "# Gender Demographics\n",
    "-Percentage and Count of Male Players\n",
    "-Percentage and Count of Female Players\n",
    "-Percentage and Count of Other / Non-Disclosed"
   ]
  },
  {
   "cell_type": "code",
   "execution_count": 75,
   "metadata": {},
   "outputs": [
    {
     "name": "stdout",
     "output_type": "stream",
     "text": [
      "Gender Demographics\n"
     ]
    },
    {
     "data": {
      "text/html": [
       "<style  type=\"text/css\" >\n",
       "</style>  \n",
       "<table id=\"T_b821eb58_00f9_11e9_a338_68ecc5c0db9e\" > \n",
       "<thead>    <tr> \n",
       "        <th class=\"blank level0\" ></th> \n",
       "        <th class=\"col_heading level0 col0\" >Gender</th> \n",
       "        <th class=\"col_heading level0 col1\" >Total Count</th> \n",
       "        <th class=\"col_heading level0 col2\" >Percentage of Players</th> \n",
       "    </tr></thead> \n",
       "<tbody>    <tr> \n",
       "        <th id=\"T_b821eb58_00f9_11e9_a338_68ecc5c0db9elevel0_row0\" class=\"row_heading level0 row0\" >0</th> \n",
       "        <td id=\"T_b821eb58_00f9_11e9_a338_68ecc5c0db9erow0_col0\" class=\"data row0 col0\" >Male</td> \n",
       "        <td id=\"T_b821eb58_00f9_11e9_a338_68ecc5c0db9erow0_col1\" class=\"data row0 col1\" >484</td> \n",
       "        <td id=\"T_b821eb58_00f9_11e9_a338_68ecc5c0db9erow0_col2\" class=\"data row0 col2\" >84.03%</td> \n",
       "    </tr>    <tr> \n",
       "        <th id=\"T_b821eb58_00f9_11e9_a338_68ecc5c0db9elevel0_row1\" class=\"row_heading level0 row1\" >1</th> \n",
       "        <td id=\"T_b821eb58_00f9_11e9_a338_68ecc5c0db9erow1_col0\" class=\"data row1 col0\" >Female</td> \n",
       "        <td id=\"T_b821eb58_00f9_11e9_a338_68ecc5c0db9erow1_col1\" class=\"data row1 col1\" >81</td> \n",
       "        <td id=\"T_b821eb58_00f9_11e9_a338_68ecc5c0db9erow1_col2\" class=\"data row1 col2\" >14.06%</td> \n",
       "    </tr>    <tr> \n",
       "        <th id=\"T_b821eb58_00f9_11e9_a338_68ecc5c0db9elevel0_row2\" class=\"row_heading level0 row2\" >2</th> \n",
       "        <td id=\"T_b821eb58_00f9_11e9_a338_68ecc5c0db9erow2_col0\" class=\"data row2 col0\" >Other / Non-Disclosed</td> \n",
       "        <td id=\"T_b821eb58_00f9_11e9_a338_68ecc5c0db9erow2_col1\" class=\"data row2 col1\" >11</td> \n",
       "        <td id=\"T_b821eb58_00f9_11e9_a338_68ecc5c0db9erow2_col2\" class=\"data row2 col2\" >1.91%</td> \n",
       "    </tr></tbody> \n",
       "</table> "
      ],
      "text/plain": [
       "<pandas.io.formats.style.Styler at 0x245361515f8>"
      ]
     },
     "execution_count": 75,
     "metadata": {},
     "output_type": "execute_result"
    }
   ],
   "source": [
    "full_count = p_data[\"SN\"].nunique()\n",
    "\n",
    "#words_c means count\n",
    "male_c = p_data[p_data[\"Gender\"] == \"Male\"][\"SN\"].nunique()\n",
    "female_c = p_data[p_data[\"Gender\"] == \"Female\"][\"SN\"].nunique()\n",
    "other_c = full_count - male_c - female_c\n",
    "\n",
    "# pct short for percentange\n",
    "malepct = ((male_c/full_count)*100)\n",
    "femalepct = ((female_c/full_count)*100)\n",
    "otherpct = ((other_c/full_count)*100)\n",
    "\n",
    "gender_dgh = pd.DataFrame({\"Gender\": [\"Male\", \"Female\", \"Other / Non-Disclosed\"], \n",
    "                           \"Total Count\": [male_c, female_c, other_c],\n",
    "                           \"Percentage of Players\": [malepct, femalepct, otherpct],}, columns = \n",
    "                                        [\"Gender\", \"Total Count\",\"Percentage of Players\"])\n",
    "print(\"Gender Demographics\")                                        \n",
    "#don't know how to get it to print with out the 'gender' colunm header so it doesn't look exactly like the example\n",
    "gender_dgh.style.format({\"Percentage of Players\": \"{:.2f}%\"})"
   ]
  },
  {
   "cell_type": "markdown",
   "metadata": {},
   "source": [
    "# Purchasing Analysis (Gender)\n",
    "-Run basic calculations to obtain purchase count, avg. purchase price, avg. purchase total per person etc. by gender\n",
    "-Create a summary data frame to hold the results\n",
    "-Display the summary data frame"
   ]
  },
  {
   "cell_type": "code",
   "execution_count": 76,
   "metadata": {},
   "outputs": [
    {
     "name": "stdout",
     "output_type": "stream",
     "text": [
      "Purchasing Analysis (Gender)\n"
     ]
    },
    {
     "data": {
      "text/html": [
       "<style  type=\"text/css\" >\n",
       "</style>  \n",
       "<table id=\"T_b8c836c2_00f9_11e9_9a67_68ecc5c0db9e\" > \n",
       "<thead>    <tr> \n",
       "        <th class=\"blank level0\" ></th> \n",
       "        <th class=\"col_heading level0 col0\" >Purchase Count</th> \n",
       "        <th class=\"col_heading level0 col1\" >Average Purchase Price</th> \n",
       "        <th class=\"col_heading level0 col2\" >Total Purchase Value</th> \n",
       "        <th class=\"col_heading level0 col3\" >Average Total Purchase per Person</th> \n",
       "    </tr>    <tr> \n",
       "        <th class=\"index_name level0\" >Gender</th> \n",
       "        <th class=\"blank\" ></th> \n",
       "        <th class=\"blank\" ></th> \n",
       "        <th class=\"blank\" ></th> \n",
       "        <th class=\"blank\" ></th> \n",
       "    </tr></thead> \n",
       "<tbody>    <tr> \n",
       "        <th id=\"T_b8c836c2_00f9_11e9_9a67_68ecc5c0db9elevel0_row0\" class=\"row_heading level0 row0\" >Female</th> \n",
       "        <td id=\"T_b8c836c2_00f9_11e9_9a67_68ecc5c0db9erow0_col0\" class=\"data row0 col0\" >113</td> \n",
       "        <td id=\"T_b8c836c2_00f9_11e9_9a67_68ecc5c0db9erow0_col1\" class=\"data row0 col1\" >$3.20</td> \n",
       "        <td id=\"T_b8c836c2_00f9_11e9_9a67_68ecc5c0db9erow0_col2\" class=\"data row0 col2\" >$361.94</td> \n",
       "        <td id=\"T_b8c836c2_00f9_11e9_9a67_68ecc5c0db9erow0_col3\" class=\"data row0 col3\" >$4.47</td> \n",
       "    </tr>    <tr> \n",
       "        <th id=\"T_b8c836c2_00f9_11e9_9a67_68ecc5c0db9elevel0_row1\" class=\"row_heading level0 row1\" >Male</th> \n",
       "        <td id=\"T_b8c836c2_00f9_11e9_9a67_68ecc5c0db9erow1_col0\" class=\"data row1 col0\" >652</td> \n",
       "        <td id=\"T_b8c836c2_00f9_11e9_9a67_68ecc5c0db9erow1_col1\" class=\"data row1 col1\" >$3.02</td> \n",
       "        <td id=\"T_b8c836c2_00f9_11e9_9a67_68ecc5c0db9erow1_col2\" class=\"data row1 col2\" >$1967.64</td> \n",
       "        <td id=\"T_b8c836c2_00f9_11e9_9a67_68ecc5c0db9erow1_col3\" class=\"data row1 col3\" >$4.07</td> \n",
       "    </tr>    <tr> \n",
       "        <th id=\"T_b8c836c2_00f9_11e9_9a67_68ecc5c0db9elevel0_row2\" class=\"row_heading level0 row2\" >Other / Non-Disclosed</th> \n",
       "        <td id=\"T_b8c836c2_00f9_11e9_9a67_68ecc5c0db9erow2_col0\" class=\"data row2 col0\" >15</td> \n",
       "        <td id=\"T_b8c836c2_00f9_11e9_9a67_68ecc5c0db9erow2_col1\" class=\"data row2 col1\" >$3.35</td> \n",
       "        <td id=\"T_b8c836c2_00f9_11e9_9a67_68ecc5c0db9erow2_col2\" class=\"data row2 col2\" >$50.19</td> \n",
       "        <td id=\"T_b8c836c2_00f9_11e9_9a67_68ecc5c0db9erow2_col3\" class=\"data row2 col3\" >$4.56</td> \n",
       "    </tr></tbody> \n",
       "</table> "
      ],
      "text/plain": [
       "<pandas.io.formats.style.Styler at 0x24537096f98>"
      ]
     },
     "execution_count": 76,
     "metadata": {},
     "output_type": "execute_result"
    }
   ],
   "source": [
    "# need to study up on groupby more. could only figure out how to get them to work half the time. \n",
    "gender_c_df = p_data.groupby(\"Gender\")[\"SN\"].nunique()\n",
    "gender_c_df.head()\n",
    "gender_buy_df = p_data.groupby(\"Gender\")[\"Item Name\"]\n",
    "gender_buy_df = gender_buy_df.count()\n",
    "gender_avg_df = p_data.groupby(\"Gender\")[\"Price\"].mean()\n",
    "gender_avg_df.round(2)\n",
    "gender_total_df = p_data.groupby(\"Gender\")[\"Price\"].sum()\n",
    "gender_total_df\n",
    "norm_gender_total_df = gender_total_df/gender_c_df\n",
    "norm_gender_total_df.round(2)\n",
    "\n",
    "\n",
    "gender_analysis_df = pd.DataFrame({\"Purchase Count\":gender_buy_df, \n",
    "                                   \"Average Purchase Price\":gender_avg_df,\n",
    "                                   \"Total Purchase Value\":gender_total_df,\n",
    "                                   \"Average Total Purchase per Person\":norm_gender_total_df})\n",
    "gender_analysis_df\n",
    "print(\"Purchasing Analysis (Gender)\")\n",
    "gender_analysis_df.style.format({'Average Purchase Price': '${:.2f}', 'Total Purchase Value': '${:.2f}', 'Average Total Purchase per Person': '${:.2f}'})\n",
    "\n"
   ]
  },
  {
   "cell_type": "markdown",
   "metadata": {},
   "source": [
    "# Age Demographics\n",
    "-Establish bins for ages\n",
    "-Categorize the existing players using the age bins. Hint: use pd.cut()\n",
    "-Calculate the numbers and percentages by age group\n",
    "-Create a summary data frame to hold the results\n",
    "-Optional: round the percentage column to two decimal points\n",
    "-Display Age Demographics Table"
   ]
  },
  {
   "cell_type": "code",
   "execution_count": 77,
   "metadata": {
    "scrolled": true
   },
   "outputs": [
    {
     "name": "stdout",
     "output_type": "stream",
     "text": [
      "Age Demographics\n"
     ]
    },
    {
     "data": {
      "text/html": [
       "<style  type=\"text/css\" >\n",
       "</style>  \n",
       "<table id=\"T_b96e71c0_00f9_11e9_8789_68ecc5c0db9e\" > \n",
       "<thead>    <tr> \n",
       "        <th class=\"blank level0\" ></th> \n",
       "        <th class=\"col_heading level0 col0\" >Total Count</th> \n",
       "        <th class=\"col_heading level0 col1\" >Percentage of Players</th> \n",
       "    </tr>    <tr> \n",
       "        <th class=\"index_name level0\" >Age</th> \n",
       "        <th class=\"blank\" ></th> \n",
       "        <th class=\"blank\" ></th> \n",
       "    </tr></thead> \n",
       "<tbody>    <tr> \n",
       "        <th id=\"T_b96e71c0_00f9_11e9_8789_68ecc5c0db9elevel0_row0\" class=\"row_heading level0 row0\" ><10</th> \n",
       "        <td id=\"T_b96e71c0_00f9_11e9_8789_68ecc5c0db9erow0_col0\" class=\"data row0 col0\" >17</td> \n",
       "        <td id=\"T_b96e71c0_00f9_11e9_8789_68ecc5c0db9erow0_col1\" class=\"data row0 col1\" >2.95%</td> \n",
       "    </tr>    <tr> \n",
       "        <th id=\"T_b96e71c0_00f9_11e9_8789_68ecc5c0db9elevel0_row1\" class=\"row_heading level0 row1\" >10-14</th> \n",
       "        <td id=\"T_b96e71c0_00f9_11e9_8789_68ecc5c0db9erow1_col0\" class=\"data row1 col0\" >22</td> \n",
       "        <td id=\"T_b96e71c0_00f9_11e9_8789_68ecc5c0db9erow1_col1\" class=\"data row1 col1\" >3.82%</td> \n",
       "    </tr>    <tr> \n",
       "        <th id=\"T_b96e71c0_00f9_11e9_8789_68ecc5c0db9elevel0_row2\" class=\"row_heading level0 row2\" >15-19</th> \n",
       "        <td id=\"T_b96e71c0_00f9_11e9_8789_68ecc5c0db9erow2_col0\" class=\"data row2 col0\" >107</td> \n",
       "        <td id=\"T_b96e71c0_00f9_11e9_8789_68ecc5c0db9erow2_col1\" class=\"data row2 col1\" >18.58%</td> \n",
       "    </tr>    <tr> \n",
       "        <th id=\"T_b96e71c0_00f9_11e9_8789_68ecc5c0db9elevel0_row3\" class=\"row_heading level0 row3\" >20-24</th> \n",
       "        <td id=\"T_b96e71c0_00f9_11e9_8789_68ecc5c0db9erow3_col0\" class=\"data row3 col0\" >258</td> \n",
       "        <td id=\"T_b96e71c0_00f9_11e9_8789_68ecc5c0db9erow3_col1\" class=\"data row3 col1\" >44.79%</td> \n",
       "    </tr>    <tr> \n",
       "        <th id=\"T_b96e71c0_00f9_11e9_8789_68ecc5c0db9elevel0_row4\" class=\"row_heading level0 row4\" >25-29</th> \n",
       "        <td id=\"T_b96e71c0_00f9_11e9_8789_68ecc5c0db9erow4_col0\" class=\"data row4 col0\" >77</td> \n",
       "        <td id=\"T_b96e71c0_00f9_11e9_8789_68ecc5c0db9erow4_col1\" class=\"data row4 col1\" >44.79%</td> \n",
       "    </tr>    <tr> \n",
       "        <th id=\"T_b96e71c0_00f9_11e9_8789_68ecc5c0db9elevel0_row5\" class=\"row_heading level0 row5\" >30-34</th> \n",
       "        <td id=\"T_b96e71c0_00f9_11e9_8789_68ecc5c0db9erow5_col0\" class=\"data row5 col0\" >52</td> \n",
       "        <td id=\"T_b96e71c0_00f9_11e9_8789_68ecc5c0db9erow5_col1\" class=\"data row5 col1\" >9.03%</td> \n",
       "    </tr>    <tr> \n",
       "        <th id=\"T_b96e71c0_00f9_11e9_8789_68ecc5c0db9elevel0_row6\" class=\"row_heading level0 row6\" >35-39</th> \n",
       "        <td id=\"T_b96e71c0_00f9_11e9_8789_68ecc5c0db9erow6_col0\" class=\"data row6 col0\" >31</td> \n",
       "        <td id=\"T_b96e71c0_00f9_11e9_8789_68ecc5c0db9erow6_col1\" class=\"data row6 col1\" >5.38%</td> \n",
       "    </tr>    <tr> \n",
       "        <th id=\"T_b96e71c0_00f9_11e9_8789_68ecc5c0db9elevel0_row7\" class=\"row_heading level0 row7\" >40+</th> \n",
       "        <td id=\"T_b96e71c0_00f9_11e9_8789_68ecc5c0db9erow7_col0\" class=\"data row7 col0\" >12</td> \n",
       "        <td id=\"T_b96e71c0_00f9_11e9_8789_68ecc5c0db9erow7_col1\" class=\"data row7 col1\" >2.08%</td> \n",
       "    </tr></tbody> \n",
       "</table> "
      ],
      "text/plain": [
       "<pandas.io.formats.style.Styler at 0x245370e1f98>"
      ]
     },
     "execution_count": 77,
     "metadata": {},
     "output_type": "execute_result"
    }
   ],
   "source": [
    "tenyears = p_data[p_data[\"Age\"] <10]\n",
    "preteens = p_data[(p_data[\"Age\"] >=10) & (p_data[\"Age\"] <=14)]\n",
    "teens = p_data[(p_data[\"Age\"] >=15) & (p_data[\"Age\"] <=19)]\n",
    "twenty = p_data[(p_data[\"Age\"] >=20) & (p_data[\"Age\"] <=24)]\n",
    "twentyup = p_data[(p_data[\"Age\"] >=25) & (p_data[\"Age\"] <=29)]\n",
    "thirty = p_data[(p_data[\"Age\"] >=30) & (p_data[\"Age\"] <=34)]\n",
    "thirtyup = p_data[(p_data[\"Age\"] >=35) & (p_data[\"Age\"] <=39)]\n",
    "forty = p_data[(p_data[\"Age\"] >=40)]\n",
    "\n",
    "age_dgh_p_data = pd.DataFrame({\"Age\": [\"<10\", \"10-14\", \"15-19\", \"20-24\", \"25-29\", \"30-34\", \"35-39\", \"40+\"],\n",
    "                                \"Total Count\": [tenyears[\"SN\"].nunique(), preteens[\"SN\"].nunique(), teens[\"SN\"].nunique(), twenty[\"SN\"].nunique(), twentyup[\"SN\"].nunique(), thirty[\"SN\"].nunique(), thirtyup[\"SN\"].nunique(), forty[\"SN\"].nunique()],\n",
    "                               \"Percentage of Players\": [(tenyears[\"SN\"].nunique()/fullcount)*100, (preteens[\"SN\"].nunique()/fullcount)*100, (teens[\"SN\"].nunique()/fullcount)*100, (twenty[\"SN\"].nunique()/fullcount)*100, (twenty[\"SN\"].nunique()/fullcount)*100, (thirty[\"SN\"].nunique()/fullcount)*100, (thirtyup[\"SN\"].nunique()/fullcount)*100, (forty[\"SN\"].nunique()/fullcount)*100]\n",
    "                               })\n",
    "print(\"Age Demographics\")\n",
    "#Why do we put in line age_dgh_final = age_dgh_p_data.set_index(\"Age\") when it does nothing to the output?\n",
    "\n",
    "\n",
    "age_dgh_final.style.format({\"Percentage of Players\": \"{:.2f}%\"})"
   ]
  },
  {
   "cell_type": "markdown",
   "metadata": {},
   "source": [
    "# Purchasing Analysis (Age)\n",
    "-Bin the purchase_data data frame by age\n",
    "-Run basic calculations to obtain purchase count, avg. purchase price, avg. purchase total per person etc. in the table below\n",
    "-Create a summary data frame to hold the results\n",
    "-Optional: give the displayed data cleaner formatting\n",
    "-Display the summary data frame"
   ]
  },
  {
   "cell_type": "code",
   "execution_count": 78,
   "metadata": {},
   "outputs": [
    {
     "data": {
      "text/html": [
       "<style  type=\"text/css\" >\n",
       "</style>  \n",
       "<table id=\"T_b9bd1d1c_00f9_11e9_b1af_68ecc5c0db9e\" > \n",
       "<thead>    <tr> \n",
       "        <th class=\"blank level0\" ></th> \n",
       "        <th class=\"col_heading level0 col0\" >Purchase Count</th> \n",
       "        <th class=\"col_heading level0 col1\" >Average Purchase Price</th> \n",
       "        <th class=\"col_heading level0 col2\" >Total Purchase Value</th> \n",
       "        <th class=\"col_heading level0 col3\" >Average Purchase Total per Person</th> \n",
       "    </tr>    <tr> \n",
       "        <th class=\"index_name level0\" >Age</th> \n",
       "        <th class=\"blank\" ></th> \n",
       "        <th class=\"blank\" ></th> \n",
       "        <th class=\"blank\" ></th> \n",
       "        <th class=\"blank\" ></th> \n",
       "    </tr></thead> \n",
       "<tbody>    <tr> \n",
       "        <th id=\"T_b9bd1d1c_00f9_11e9_b1af_68ecc5c0db9elevel0_row0\" class=\"row_heading level0 row0\" >10-14</th> \n",
       "        <td id=\"T_b9bd1d1c_00f9_11e9_b1af_68ecc5c0db9erow0_col0\" class=\"data row0 col0\" >28</td> \n",
       "        <td id=\"T_b9bd1d1c_00f9_11e9_b1af_68ecc5c0db9erow0_col1\" class=\"data row0 col1\" >$2.96</td> \n",
       "        <td id=\"T_b9bd1d1c_00f9_11e9_b1af_68ecc5c0db9erow0_col2\" class=\"data row0 col2\" >$82.78</td> \n",
       "        <td id=\"T_b9bd1d1c_00f9_11e9_b1af_68ecc5c0db9erow0_col3\" class=\"data row0 col3\" >$3.76</td> \n",
       "    </tr>    <tr> \n",
       "        <th id=\"T_b9bd1d1c_00f9_11e9_b1af_68ecc5c0db9elevel0_row1\" class=\"row_heading level0 row1\" >15-19</th> \n",
       "        <td id=\"T_b9bd1d1c_00f9_11e9_b1af_68ecc5c0db9erow1_col0\" class=\"data row1 col0\" >136</td> \n",
       "        <td id=\"T_b9bd1d1c_00f9_11e9_b1af_68ecc5c0db9erow1_col1\" class=\"data row1 col1\" >$3.04</td> \n",
       "        <td id=\"T_b9bd1d1c_00f9_11e9_b1af_68ecc5c0db9erow1_col2\" class=\"data row1 col2\" >$412.89</td> \n",
       "        <td id=\"T_b9bd1d1c_00f9_11e9_b1af_68ecc5c0db9erow1_col3\" class=\"data row1 col3\" >$3.86</td> \n",
       "    </tr>    <tr> \n",
       "        <th id=\"T_b9bd1d1c_00f9_11e9_b1af_68ecc5c0db9elevel0_row2\" class=\"row_heading level0 row2\" >20-24</th> \n",
       "        <td id=\"T_b9bd1d1c_00f9_11e9_b1af_68ecc5c0db9erow2_col0\" class=\"data row2 col0\" >365</td> \n",
       "        <td id=\"T_b9bd1d1c_00f9_11e9_b1af_68ecc5c0db9erow2_col1\" class=\"data row2 col1\" >$3.05</td> \n",
       "        <td id=\"T_b9bd1d1c_00f9_11e9_b1af_68ecc5c0db9erow2_col2\" class=\"data row2 col2\" >$1114.06</td> \n",
       "        <td id=\"T_b9bd1d1c_00f9_11e9_b1af_68ecc5c0db9erow2_col3\" class=\"data row2 col3\" >$4.32</td> \n",
       "    </tr>    <tr> \n",
       "        <th id=\"T_b9bd1d1c_00f9_11e9_b1af_68ecc5c0db9elevel0_row3\" class=\"row_heading level0 row3\" >25-29</th> \n",
       "        <td id=\"T_b9bd1d1c_00f9_11e9_b1af_68ecc5c0db9erow3_col0\" class=\"data row3 col0\" >101</td> \n",
       "        <td id=\"T_b9bd1d1c_00f9_11e9_b1af_68ecc5c0db9erow3_col1\" class=\"data row3 col1\" >$2.90</td> \n",
       "        <td id=\"T_b9bd1d1c_00f9_11e9_b1af_68ecc5c0db9erow3_col2\" class=\"data row3 col2\" >$293.00</td> \n",
       "        <td id=\"T_b9bd1d1c_00f9_11e9_b1af_68ecc5c0db9erow3_col3\" class=\"data row3 col3\" >$3.81</td> \n",
       "    </tr>    <tr> \n",
       "        <th id=\"T_b9bd1d1c_00f9_11e9_b1af_68ecc5c0db9elevel0_row4\" class=\"row_heading level0 row4\" >30-34</th> \n",
       "        <td id=\"T_b9bd1d1c_00f9_11e9_b1af_68ecc5c0db9erow4_col0\" class=\"data row4 col0\" >73</td> \n",
       "        <td id=\"T_b9bd1d1c_00f9_11e9_b1af_68ecc5c0db9erow4_col1\" class=\"data row4 col1\" >$2.93</td> \n",
       "        <td id=\"T_b9bd1d1c_00f9_11e9_b1af_68ecc5c0db9erow4_col2\" class=\"data row4 col2\" >$214.00</td> \n",
       "        <td id=\"T_b9bd1d1c_00f9_11e9_b1af_68ecc5c0db9erow4_col3\" class=\"data row4 col3\" >$4.12</td> \n",
       "    </tr>    <tr> \n",
       "        <th id=\"T_b9bd1d1c_00f9_11e9_b1af_68ecc5c0db9elevel0_row5\" class=\"row_heading level0 row5\" >35-39</th> \n",
       "        <td id=\"T_b9bd1d1c_00f9_11e9_b1af_68ecc5c0db9erow5_col0\" class=\"data row5 col0\" >41</td> \n",
       "        <td id=\"T_b9bd1d1c_00f9_11e9_b1af_68ecc5c0db9erow5_col1\" class=\"data row5 col1\" >$3.60</td> \n",
       "        <td id=\"T_b9bd1d1c_00f9_11e9_b1af_68ecc5c0db9erow5_col2\" class=\"data row5 col2\" >$147.67</td> \n",
       "        <td id=\"T_b9bd1d1c_00f9_11e9_b1af_68ecc5c0db9erow5_col3\" class=\"data row5 col3\" >$4.76</td> \n",
       "    </tr>    <tr> \n",
       "        <th id=\"T_b9bd1d1c_00f9_11e9_b1af_68ecc5c0db9elevel0_row6\" class=\"row_heading level0 row6\" >40+</th> \n",
       "        <td id=\"T_b9bd1d1c_00f9_11e9_b1af_68ecc5c0db9erow6_col0\" class=\"data row6 col0\" >13</td> \n",
       "        <td id=\"T_b9bd1d1c_00f9_11e9_b1af_68ecc5c0db9erow6_col1\" class=\"data row6 col1\" >$2.94</td> \n",
       "        <td id=\"T_b9bd1d1c_00f9_11e9_b1af_68ecc5c0db9erow6_col2\" class=\"data row6 col2\" >$38.24</td> \n",
       "        <td id=\"T_b9bd1d1c_00f9_11e9_b1af_68ecc5c0db9erow6_col3\" class=\"data row6 col3\" >$3.19</td> \n",
       "    </tr>    <tr> \n",
       "        <th id=\"T_b9bd1d1c_00f9_11e9_b1af_68ecc5c0db9elevel0_row7\" class=\"row_heading level0 row7\" ><10</th> \n",
       "        <td id=\"T_b9bd1d1c_00f9_11e9_b1af_68ecc5c0db9erow7_col0\" class=\"data row7 col0\" >23</td> \n",
       "        <td id=\"T_b9bd1d1c_00f9_11e9_b1af_68ecc5c0db9erow7_col1\" class=\"data row7 col1\" >$3.35</td> \n",
       "        <td id=\"T_b9bd1d1c_00f9_11e9_b1af_68ecc5c0db9erow7_col2\" class=\"data row7 col2\" >$77.13</td> \n",
       "        <td id=\"T_b9bd1d1c_00f9_11e9_b1af_68ecc5c0db9erow7_col3\" class=\"data row7 col3\" >$4.54</td> \n",
       "    </tr></tbody> \n",
       "</table> "
      ],
      "text/plain": [
       "<pandas.io.formats.style.Styler at 0x24535ee2240>"
      ]
     },
     "execution_count": 78,
     "metadata": {},
     "output_type": "execute_result"
    }
   ],
   "source": [
    "age_purchasing_df = pd.DataFrame({\"Age\": [ \"10-14\", \"15-19\", \"20-24\", \"25-29\", \"30-34\", \"35-39\", \"40+\", \"<10\"],\n",
    "                              \"Purchase Count\": [preteens[\"Price\"].count(), teens[\"Price\"].count(), twenty[\"Price\"].count(), twentyup[\"Price\"].count(), thirty[\"Price\"].count(), thirtyup[\"Price\"].count(), forty[\"Price\"].count(), tenyears[\"Price\"].count()],\n",
    "                              \"Average Purchase Price\": [preteens[\"Price\"].mean(), teens[\"Price\"].mean(), twenty[\"Price\"].mean(), twentyup[\"Price\"].mean(), thirty[\"Price\"].mean(), thirtyup[\"Price\"].mean(), forty[\"Price\"].mean(), tenyears[\"Price\"].mean()], \n",
    "                              \"Total Purchase Value\": [ preteens[\"Price\"].sum(), teens[\"Price\"].sum(), twenty[\"Price\"].sum(), twentyup[\"Price\"].sum(), thirty[\"Price\"].sum(), thirtyup[\"Price\"].sum(), forty[\"Price\"].sum(), tenyears[\"Price\"].sum()],\n",
    "                              \"Average Purchase Total per Person\": [preteens[\"Price\"].sum()/preteens['SN'].nunique(), teens[\"Price\"].sum()/teens['SN'].nunique(), \n",
    "                                                    twenty[\"Price\"].sum()/twenty['SN'].nunique(), twentyup[\"Price\"].sum()/twentyup['SN'].nunique(), \n",
    "                                                    thirty[\"Price\"].sum()/thirty['SN'].nunique(), thirtyup[\"Price\"].sum()/thirtyup['SN'].nunique(), \n",
    "                                                    forty[\"Price\"].sum()/forty['SN'].nunique(), tenyears[\"Price\"].sum()/tenyears['SN'].nunique()]}, \n",
    "                             columns = [\"Age\", \"Purchase Count\", \"Average Purchase Price\", \"Total Purchase Value\", \"Average Purchase Total per Person\"])\n",
    "\n",
    "age_purchasing_chart = age_purchasing_df.set_index(\"Age\")\n",
    "\n",
    "age_purchasing_chart.style.format({\"Average Purchase Price\": \"${:.2f}\", \"Total Purchase Value\": \"${:.2f}\", \"Average Purchase Total per Person\": \"${:.2f}\"})"
   ]
  },
  {
   "cell_type": "markdown",
   "metadata": {},
   "source": [
    "# Top Spenders\n",
    "-Run basic calculations to obtain the results in the table below\n",
    "Create a summary data frame to hold the results\n",
    "-Sort the total purchase value column in descending order\n",
    "-Optional: give the displayed data cleaner formatting\n",
    "-Display a preview of the summary data frame"
   ]
  },
  {
   "cell_type": "code",
   "execution_count": 79,
   "metadata": {},
   "outputs": [
    {
     "data": {
      "text/html": [
       "<style  type=\"text/css\" >\n",
       "</style>  \n",
       "<table id=\"T_ba29e182_00f9_11e9_a418_68ecc5c0db9e\" > \n",
       "<thead>    <tr> \n",
       "        <th class=\"blank level0\" ></th> \n",
       "        <th class=\"col_heading level0 col0\" >Total Purchase Value</th> \n",
       "        <th class=\"col_heading level0 col1\" >Purchase Count</th> \n",
       "        <th class=\"col_heading level0 col2\" >Average Purchase Price</th> \n",
       "    </tr>    <tr> \n",
       "        <th class=\"index_name level0\" >SN</th> \n",
       "        <th class=\"blank\" ></th> \n",
       "        <th class=\"blank\" ></th> \n",
       "        <th class=\"blank\" ></th> \n",
       "    </tr></thead> \n",
       "<tbody>    <tr> \n",
       "        <th id=\"T_ba29e182_00f9_11e9_a418_68ecc5c0db9elevel0_row0\" class=\"row_heading level0 row0\" >Lisosia93</th> \n",
       "        <td id=\"T_ba29e182_00f9_11e9_a418_68ecc5c0db9erow0_col0\" class=\"data row0 col0\" >$18.96</td> \n",
       "        <td id=\"T_ba29e182_00f9_11e9_a418_68ecc5c0db9erow0_col1\" class=\"data row0 col1\" >5</td> \n",
       "        <td id=\"T_ba29e182_00f9_11e9_a418_68ecc5c0db9erow0_col2\" class=\"data row0 col2\" >$3.79</td> \n",
       "    </tr>    <tr> \n",
       "        <th id=\"T_ba29e182_00f9_11e9_a418_68ecc5c0db9elevel0_row1\" class=\"row_heading level0 row1\" >Idastidru52</th> \n",
       "        <td id=\"T_ba29e182_00f9_11e9_a418_68ecc5c0db9erow1_col0\" class=\"data row1 col0\" >$15.45</td> \n",
       "        <td id=\"T_ba29e182_00f9_11e9_a418_68ecc5c0db9erow1_col1\" class=\"data row1 col1\" >4</td> \n",
       "        <td id=\"T_ba29e182_00f9_11e9_a418_68ecc5c0db9erow1_col2\" class=\"data row1 col2\" >$3.86</td> \n",
       "    </tr>    <tr> \n",
       "        <th id=\"T_ba29e182_00f9_11e9_a418_68ecc5c0db9elevel0_row2\" class=\"row_heading level0 row2\" >Chamjask73</th> \n",
       "        <td id=\"T_ba29e182_00f9_11e9_a418_68ecc5c0db9erow2_col0\" class=\"data row2 col0\" >$13.83</td> \n",
       "        <td id=\"T_ba29e182_00f9_11e9_a418_68ecc5c0db9erow2_col1\" class=\"data row2 col1\" >3</td> \n",
       "        <td id=\"T_ba29e182_00f9_11e9_a418_68ecc5c0db9erow2_col2\" class=\"data row2 col2\" >$4.61</td> \n",
       "    </tr>    <tr> \n",
       "        <th id=\"T_ba29e182_00f9_11e9_a418_68ecc5c0db9elevel0_row3\" class=\"row_heading level0 row3\" >Iral74</th> \n",
       "        <td id=\"T_ba29e182_00f9_11e9_a418_68ecc5c0db9erow3_col0\" class=\"data row3 col0\" >$13.62</td> \n",
       "        <td id=\"T_ba29e182_00f9_11e9_a418_68ecc5c0db9erow3_col1\" class=\"data row3 col1\" >4</td> \n",
       "        <td id=\"T_ba29e182_00f9_11e9_a418_68ecc5c0db9erow3_col2\" class=\"data row3 col2\" >$3.40</td> \n",
       "    </tr>    <tr> \n",
       "        <th id=\"T_ba29e182_00f9_11e9_a418_68ecc5c0db9elevel0_row4\" class=\"row_heading level0 row4\" >Iskadarya95</th> \n",
       "        <td id=\"T_ba29e182_00f9_11e9_a418_68ecc5c0db9erow4_col0\" class=\"data row4 col0\" >$13.10</td> \n",
       "        <td id=\"T_ba29e182_00f9_11e9_a418_68ecc5c0db9erow4_col1\" class=\"data row4 col1\" >3</td> \n",
       "        <td id=\"T_ba29e182_00f9_11e9_a418_68ecc5c0db9erow4_col2\" class=\"data row4 col2\" >$4.37</td> \n",
       "    </tr></tbody> \n",
       "</table> "
      ],
      "text/plain": [
       "<pandas.io.formats.style.Styler at 0x24537058128>"
      ]
     },
     "execution_count": 79,
     "metadata": {},
     "output_type": "execute_result"
    }
   ],
   "source": [
    "pur_amt_by_SN = pd.DataFrame(p_data.groupby('SN')['Price'].sum())\n",
    "num_pur_by_SN = pd.DataFrame(p_data.groupby('SN')['Price'].count())\n",
    "avg_pur_by_SN = pd.DataFrame(p_data.groupby('SN')['Price'].mean())\n",
    "\n",
    "top_5 = pd.merge(pur_amt_by_SN, num_pur_by_SN, left_index = True, right_index = True).merge(avg_pur_by_SN, left_index=True, right_index=True)\n",
    "top_5.rename(columns = {'Price_x': 'Total Purchase Value', \n",
    "                        'Price_y':'Purchase Count', \n",
    "                        'Price':'Average Purchase Price'}, inplace = True)\n",
    "top_5.sort_values('Total Purchase Value', ascending = False, inplace=True)\n",
    "top_5 = top_5.head()\n",
    "top_5.style.format({'Total Purchase Value': '${:.2f}', 'Average Purchase Price': '${:.2f}'})"
   ]
  },
  {
   "cell_type": "markdown",
   "metadata": {},
   "source": [
    "# Most Popular Items\n",
    "-Retrieve the Item ID, Item Name, and Item Price columns\n",
    "-Group by Item ID and Item Name. Perform calculations to obtain purchase count, item price, and total purchase value\n",
    "-Create a summary data frame to hold the results\n",
    "-Sort the purchase count column in descending order\n",
    "-Optional: give the displayed data cleaner formatting\n",
    "-Display a preview of the summary data frame"
   ]
  },
  {
   "cell_type": "code",
   "execution_count": 80,
   "metadata": {},
   "outputs": [
    {
     "data": {
      "text/html": [
       "<style  type=\"text/css\" >\n",
       "</style>  \n",
       "<table id=\"T_badb52e8_00f9_11e9_88d3_68ecc5c0db9e\" > \n",
       "<thead>    <tr> \n",
       "        <th class=\"blank\" ></th> \n",
       "        <th class=\"blank level0\" ></th> \n",
       "        <th class=\"col_heading level0 col0\" >Purchase Count</th> \n",
       "        <th class=\"col_heading level0 col1\" >Item Price</th> \n",
       "        <th class=\"col_heading level0 col2\" >Total Purchase Value</th> \n",
       "    </tr>    <tr> \n",
       "        <th class=\"index_name level0\" >Item ID</th> \n",
       "        <th class=\"index_name level1\" >Item Name</th> \n",
       "        <th class=\"blank\" ></th> \n",
       "        <th class=\"blank\" ></th> \n",
       "        <th class=\"blank\" ></th> \n",
       "    </tr></thead> \n",
       "<tbody>    <tr> \n",
       "        <th id=\"T_badb52e8_00f9_11e9_88d3_68ecc5c0db9elevel0_row0\" class=\"row_heading level0 row0\" >178</th> \n",
       "        <th id=\"T_badb52e8_00f9_11e9_88d3_68ecc5c0db9elevel1_row0\" class=\"row_heading level1 row0\" >Oathbreaker, Last Hope of the Breaking Storm</th> \n",
       "        <td id=\"T_badb52e8_00f9_11e9_88d3_68ecc5c0db9erow0_col0\" class=\"data row0 col0\" >12</td> \n",
       "        <td id=\"T_badb52e8_00f9_11e9_88d3_68ecc5c0db9erow0_col1\" class=\"data row0 col1\" >$4.23</td> \n",
       "        <td id=\"T_badb52e8_00f9_11e9_88d3_68ecc5c0db9erow0_col2\" class=\"data row0 col2\" >$50.76</td> \n",
       "    </tr>    <tr> \n",
       "        <th id=\"T_badb52e8_00f9_11e9_88d3_68ecc5c0db9elevel0_row1\" class=\"row_heading level0 row1\" >82</th> \n",
       "        <th id=\"T_badb52e8_00f9_11e9_88d3_68ecc5c0db9elevel1_row1\" class=\"row_heading level1 row1\" >Nirvana</th> \n",
       "        <td id=\"T_badb52e8_00f9_11e9_88d3_68ecc5c0db9erow1_col0\" class=\"data row1 col0\" >9</td> \n",
       "        <td id=\"T_badb52e8_00f9_11e9_88d3_68ecc5c0db9erow1_col1\" class=\"data row1 col1\" >$4.90</td> \n",
       "        <td id=\"T_badb52e8_00f9_11e9_88d3_68ecc5c0db9erow1_col2\" class=\"data row1 col2\" >$44.10</td> \n",
       "    </tr>    <tr> \n",
       "        <th id=\"T_badb52e8_00f9_11e9_88d3_68ecc5c0db9elevel0_row2\" class=\"row_heading level0 row2\" >145</th> \n",
       "        <th id=\"T_badb52e8_00f9_11e9_88d3_68ecc5c0db9elevel1_row2\" class=\"row_heading level1 row2\" >Fiery Glass Crusader</th> \n",
       "        <td id=\"T_badb52e8_00f9_11e9_88d3_68ecc5c0db9erow2_col0\" class=\"data row2 col0\" >9</td> \n",
       "        <td id=\"T_badb52e8_00f9_11e9_88d3_68ecc5c0db9erow2_col1\" class=\"data row2 col1\" >$4.58</td> \n",
       "        <td id=\"T_badb52e8_00f9_11e9_88d3_68ecc5c0db9erow2_col2\" class=\"data row2 col2\" >$41.22</td> \n",
       "    </tr>    <tr> \n",
       "        <th id=\"T_badb52e8_00f9_11e9_88d3_68ecc5c0db9elevel0_row3\" class=\"row_heading level0 row3\" >108</th> \n",
       "        <th id=\"T_badb52e8_00f9_11e9_88d3_68ecc5c0db9elevel1_row3\" class=\"row_heading level1 row3\" >Extraction, Quickblade Of Trembling Hands</th> \n",
       "        <td id=\"T_badb52e8_00f9_11e9_88d3_68ecc5c0db9erow3_col0\" class=\"data row3 col0\" >9</td> \n",
       "        <td id=\"T_badb52e8_00f9_11e9_88d3_68ecc5c0db9erow3_col1\" class=\"data row3 col1\" >$3.53</td> \n",
       "        <td id=\"T_badb52e8_00f9_11e9_88d3_68ecc5c0db9erow3_col2\" class=\"data row3 col2\" >$31.77</td> \n",
       "    </tr>    <tr> \n",
       "        <th id=\"T_badb52e8_00f9_11e9_88d3_68ecc5c0db9elevel0_row4\" class=\"row_heading level0 row4\" >103</th> \n",
       "        <th id=\"T_badb52e8_00f9_11e9_88d3_68ecc5c0db9elevel1_row4\" class=\"row_heading level1 row4\" >Singed Scalpel</th> \n",
       "        <td id=\"T_badb52e8_00f9_11e9_88d3_68ecc5c0db9erow4_col0\" class=\"data row4 col0\" >8</td> \n",
       "        <td id=\"T_badb52e8_00f9_11e9_88d3_68ecc5c0db9erow4_col1\" class=\"data row4 col1\" >$4.35</td> \n",
       "        <td id=\"T_badb52e8_00f9_11e9_88d3_68ecc5c0db9erow4_col2\" class=\"data row4 col2\" >$34.80</td> \n",
       "    </tr>    <tr> \n",
       "        <th id=\"T_badb52e8_00f9_11e9_88d3_68ecc5c0db9elevel0_row5\" class=\"row_heading level0 row5\" >60</th> \n",
       "        <th id=\"T_badb52e8_00f9_11e9_88d3_68ecc5c0db9elevel1_row5\" class=\"row_heading level1 row5\" >Wolf</th> \n",
       "        <td id=\"T_badb52e8_00f9_11e9_88d3_68ecc5c0db9erow5_col0\" class=\"data row5 col0\" >8</td> \n",
       "        <td id=\"T_badb52e8_00f9_11e9_88d3_68ecc5c0db9erow5_col1\" class=\"data row5 col1\" >$3.54</td> \n",
       "        <td id=\"T_badb52e8_00f9_11e9_88d3_68ecc5c0db9erow5_col2\" class=\"data row5 col2\" >$28.32</td> \n",
       "    </tr></tbody> \n",
       "</table> "
      ],
      "text/plain": [
       "<pandas.io.formats.style.Styler at 0x24537158ef0>"
      ]
     },
     "execution_count": 80,
     "metadata": {},
     "output_type": "execute_result"
    }
   ],
   "source": [
    "#merge dataframes for purchase count and total purchase value for items\n",
    "\n",
    "merge_iditem= p_data.groupby(\"Item ID\").sum().reset_index()\n",
    "merge_nameitem = p_data.groupby(\"Item Name\").sum().reset_index()\n",
    "mergecount = p_data.groupby(\"Item Name\").count().reset_index()\n",
    "\n",
    "#merge confusing dataframes\n",
    "merge_one = pd.merge(merge_nameitem, merge_iditem, on=\"Price\")\n",
    "merge_two = pd.merge(mergecount, merge_one, on=\"Item Name\")\n",
    "merge_two[\"Gender\"] = (merge_two[\"Price_y\"]/merge_two[\"Item ID\"]).round(2)\n",
    "\n",
    "renamed_df = merge_two.rename(columns={\"Age\": \"Purchase Count\", \n",
    "                                             \"Gender\": \"Item Price\", \n",
    "                                             \"Item ID\": \"null\", \n",
    "                                             \"Price_y\": \"Total Purchase Value\", \n",
    "                                             \"Item ID_y\": \"Item ID\"})\n",
    "\n",
    "#ones we want\n",
    "clean_df = renamed_df[[\"Item ID\", \n",
    "                             \"Item Name\", \n",
    "                             \"Purchase Count\", \n",
    "                             \"Item Price\", \n",
    "                             \"Total Purchase Value\"]]\n",
    "\n",
    "lister_items_df = clean_df.set_index(['Item ID', 'Item Name'])\n",
    "pop_items = lister_items_df.sort_values('Purchase Count', ascending=False).head(6)\n",
    "pop_items.style.format({\"Item Price\": \"${:.2f}\", \"Total Purchase Value\": \"${:.2f}\"})"
   ]
  },
  {
   "cell_type": "markdown",
   "metadata": {},
   "source": [
    "# Most Profitable Items\n",
    "-Sort the above table by total purchase value in descending order\n",
    "-Optional: give the displayed data cleaner formatting\n",
    "-Display a preview of the data frame"
   ]
  },
  {
   "cell_type": "code",
   "execution_count": 81,
   "metadata": {},
   "outputs": [
    {
     "data": {
      "text/html": [
       "<style  type=\"text/css\" >\n",
       "</style>  \n",
       "<table id=\"T_bb786652_00f9_11e9_8ac0_68ecc5c0db9e\" > \n",
       "<thead>    <tr> \n",
       "        <th class=\"blank\" ></th> \n",
       "        <th class=\"blank level0\" ></th> \n",
       "        <th class=\"col_heading level0 col0\" >Purchase Count</th> \n",
       "        <th class=\"col_heading level0 col1\" >Item Price</th> \n",
       "        <th class=\"col_heading level0 col2\" >Total Purchase Value</th> \n",
       "    </tr>    <tr> \n",
       "        <th class=\"index_name level0\" >Item ID</th> \n",
       "        <th class=\"index_name level1\" >Item Name</th> \n",
       "        <th class=\"blank\" ></th> \n",
       "        <th class=\"blank\" ></th> \n",
       "        <th class=\"blank\" ></th> \n",
       "    </tr></thead> \n",
       "<tbody>    <tr> \n",
       "        <th id=\"T_bb786652_00f9_11e9_8ac0_68ecc5c0db9elevel0_row0\" class=\"row_heading level0 row0\" >178</th> \n",
       "        <th id=\"T_bb786652_00f9_11e9_8ac0_68ecc5c0db9elevel1_row0\" class=\"row_heading level1 row0\" >Oathbreaker, Last Hope of the Breaking Storm</th> \n",
       "        <td id=\"T_bb786652_00f9_11e9_8ac0_68ecc5c0db9erow0_col0\" class=\"data row0 col0\" >12</td> \n",
       "        <td id=\"T_bb786652_00f9_11e9_8ac0_68ecc5c0db9erow0_col1\" class=\"data row0 col1\" >$4.23</td> \n",
       "        <td id=\"T_bb786652_00f9_11e9_8ac0_68ecc5c0db9erow0_col2\" class=\"data row0 col2\" >$50.76</td> \n",
       "    </tr>    <tr> \n",
       "        <th id=\"T_bb786652_00f9_11e9_8ac0_68ecc5c0db9elevel0_row1\" class=\"row_heading level0 row1\" >82</th> \n",
       "        <th id=\"T_bb786652_00f9_11e9_8ac0_68ecc5c0db9elevel1_row1\" class=\"row_heading level1 row1\" >Nirvana</th> \n",
       "        <td id=\"T_bb786652_00f9_11e9_8ac0_68ecc5c0db9erow1_col0\" class=\"data row1 col0\" >9</td> \n",
       "        <td id=\"T_bb786652_00f9_11e9_8ac0_68ecc5c0db9erow1_col1\" class=\"data row1 col1\" >$4.90</td> \n",
       "        <td id=\"T_bb786652_00f9_11e9_8ac0_68ecc5c0db9erow1_col2\" class=\"data row1 col2\" >$44.10</td> \n",
       "    </tr>    <tr> \n",
       "        <th id=\"T_bb786652_00f9_11e9_8ac0_68ecc5c0db9elevel0_row2\" class=\"row_heading level0 row2\" >145</th> \n",
       "        <th id=\"T_bb786652_00f9_11e9_8ac0_68ecc5c0db9elevel1_row2\" class=\"row_heading level1 row2\" >Fiery Glass Crusader</th> \n",
       "        <td id=\"T_bb786652_00f9_11e9_8ac0_68ecc5c0db9erow2_col0\" class=\"data row2 col0\" >9</td> \n",
       "        <td id=\"T_bb786652_00f9_11e9_8ac0_68ecc5c0db9erow2_col1\" class=\"data row2 col1\" >$4.58</td> \n",
       "        <td id=\"T_bb786652_00f9_11e9_8ac0_68ecc5c0db9erow2_col2\" class=\"data row2 col2\" >$41.22</td> \n",
       "    </tr>    <tr> \n",
       "        <th id=\"T_bb786652_00f9_11e9_8ac0_68ecc5c0db9elevel0_row3\" class=\"row_heading level0 row3\" >103</th> \n",
       "        <th id=\"T_bb786652_00f9_11e9_8ac0_68ecc5c0db9elevel1_row3\" class=\"row_heading level1 row3\" >Singed Scalpel</th> \n",
       "        <td id=\"T_bb786652_00f9_11e9_8ac0_68ecc5c0db9erow3_col0\" class=\"data row3 col0\" >8</td> \n",
       "        <td id=\"T_bb786652_00f9_11e9_8ac0_68ecc5c0db9erow3_col1\" class=\"data row3 col1\" >$4.35</td> \n",
       "        <td id=\"T_bb786652_00f9_11e9_8ac0_68ecc5c0db9erow3_col2\" class=\"data row3 col2\" >$34.80</td> \n",
       "    </tr>    <tr> \n",
       "        <th id=\"T_bb786652_00f9_11e9_8ac0_68ecc5c0db9elevel0_row4\" class=\"row_heading level0 row4\" >59</th> \n",
       "        <th id=\"T_bb786652_00f9_11e9_8ac0_68ecc5c0db9elevel1_row4\" class=\"row_heading level1 row4\" >Lightning, Etcher of the King</th> \n",
       "        <td id=\"T_bb786652_00f9_11e9_8ac0_68ecc5c0db9erow4_col0\" class=\"data row4 col0\" >8</td> \n",
       "        <td id=\"T_bb786652_00f9_11e9_8ac0_68ecc5c0db9erow4_col1\" class=\"data row4 col1\" >$4.23</td> \n",
       "        <td id=\"T_bb786652_00f9_11e9_8ac0_68ecc5c0db9erow4_col2\" class=\"data row4 col2\" >$33.84</td> \n",
       "    </tr></tbody> \n",
       "</table> "
      ],
      "text/plain": [
       "<pandas.io.formats.style.Styler at 0x24537100b00>"
      ]
     },
     "execution_count": 81,
     "metadata": {},
     "output_type": "execute_result"
    }
   ],
   "source": [
    "\n",
    "moneyticket_items = lister_items_df.sort_values('Total Purchase Value', ascending=False).head()\n",
    "moneyticket_items.style.format({\"Item Price\": \"${:.2f}\", \"Total Purchase Value\": \"${:.2f}\"})"
   ]
  },
  {
   "cell_type": "markdown",
   "metadata": {},
   "source": [
    "The item 'Oathbreaker, Last Hope of the Breaking Storm' is our most profitable and popular item while item 'Nirvana' and 'Fiery Glass Crusader' are still in our top five list for most popular and our top five list for most profitable.\n",
    "\n",
    "Males far out spend females and others due to making more purcheses.\n"
   ]
  }
 ],
 "metadata": {
  "kernelspec": {
   "display_name": "Python 3",
   "language": "python",
   "name": "python3"
  },
  "language_info": {
   "codemirror_mode": {
    "name": "ipython",
    "version": 3
   },
   "file_extension": ".py",
   "mimetype": "text/x-python",
   "name": "python",
   "nbconvert_exporter": "python",
   "pygments_lexer": "ipython3",
   "version": "3.7.0"
  }
 },
 "nbformat": 4,
 "nbformat_minor": 2
}
